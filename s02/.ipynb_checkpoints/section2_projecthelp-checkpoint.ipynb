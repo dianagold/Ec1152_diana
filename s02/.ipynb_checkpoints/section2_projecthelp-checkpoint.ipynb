{
 "cells": [
  {
   "cell_type": "markdown",
   "metadata": {},
   "source": [
    "<img style=\"float: left; padding-right: 5px; width: 300px\" \n",
    "src=\"https://github.com/dianagold/Ec1152_diana/blob/master/econlogo.png?raw=true\"> <br/><br/><br/>\n",
    "# Ec 1152 Using big data to solve economic and social problems\n",
    "### Section 2: Project deep dive\n",
    "\n",
    "**Harvard University** - Spring 2019 <br/>\n",
    "**Instructor**: Prof. Raj Chetty <br/>\n",
    "**Head TF**: Greg Bruich <br/>\n",
    "**TF**: Diana Goldemberg"
   ]
  },
  {
   "cell_type": "code",
   "execution_count": 1,
   "metadata": {},
   "outputs": [],
   "source": [
    "import pandas as pd\n",
    "import sys\n",
    "import numpy as np\n",
    "import scipy as sp\n",
    "import seaborn as sns\n",
    "import matplotlib.pyplot as plt\n",
    "from math import radians, cos, sin, asin, sqrt\n",
    "import datetime\n",
    "from sklearn.linear_model import LinearRegression\n",
    "from sklearn import preprocessing\n",
    "%matplotlib inline"
   ]
  },
  {
   "cell_type": "markdown",
   "metadata": {},
   "source": [
    "## First Look At The Data"
   ]
  },
  {
   "cell_type": "code",
   "execution_count": 2,
   "metadata": {
    "scrolled": true
   },
   "outputs": [
    {
     "data": {
      "text/html": [
       "<div>\n",
       "<style scoped>\n",
       "    .dataframe tbody tr th:only-of-type {\n",
       "        vertical-align: middle;\n",
       "    }\n",
       "\n",
       "    .dataframe tbody tr th {\n",
       "        vertical-align: top;\n",
       "    }\n",
       "\n",
       "    .dataframe thead th {\n",
       "        text-align: right;\n",
       "    }\n",
       "</style>\n",
       "<table border=\"1\" class=\"dataframe\">\n",
       "  <thead>\n",
       "    <tr style=\"text-align: right;\">\n",
       "      <th></th>\n",
       "      <th>tract</th>\n",
       "      <th>county</th>\n",
       "      <th>state</th>\n",
       "      <th>cz</th>\n",
       "      <th>czname</th>\n",
       "      <th>hhinc_mean2000</th>\n",
       "      <th>mean_commutetime2000</th>\n",
       "      <th>frac_coll_plus2010</th>\n",
       "      <th>frac_coll_plus2000</th>\n",
       "      <th>foreign_share2010</th>\n",
       "      <th>...</th>\n",
       "      <th>ranks_black_p100</th>\n",
       "      <th>ranks_hisp_p25</th>\n",
       "      <th>ranks_hisp_p75</th>\n",
       "      <th>ranks_hisp_p100</th>\n",
       "      <th>ranks_pooled_p25</th>\n",
       "      <th>ranks_pooled_p75</th>\n",
       "      <th>ranks_pooled_p100</th>\n",
       "      <th>ranks_white_p25</th>\n",
       "      <th>ranks_white_p75</th>\n",
       "      <th>ranks_white_p100</th>\n",
       "    </tr>\n",
       "  </thead>\n",
       "  <tbody>\n",
       "    <tr>\n",
       "      <th>0</th>\n",
       "      <td>20100</td>\n",
       "      <td>1</td>\n",
       "      <td>1</td>\n",
       "      <td>11101.0</td>\n",
       "      <td>Montgomery</td>\n",
       "      <td>68638.727</td>\n",
       "      <td>26.171911</td>\n",
       "      <td>0.254428</td>\n",
       "      <td>0.156479</td>\n",
       "      <td>0.009950</td>\n",
       "      <td>...</td>\n",
       "      <td>0.756279</td>\n",
       "      <td>NaN</td>\n",
       "      <td>NaN</td>\n",
       "      <td>NaN</td>\n",
       "      <td>0.367813</td>\n",
       "      <td>0.570000</td>\n",
       "      <td>0.728977</td>\n",
       "      <td>0.393526</td>\n",
       "      <td>0.564946</td>\n",
       "      <td>0.709932</td>\n",
       "    </tr>\n",
       "    <tr>\n",
       "      <th>1</th>\n",
       "      <td>20200</td>\n",
       "      <td>1</td>\n",
       "      <td>1</td>\n",
       "      <td>11101.0</td>\n",
       "      <td>Montgomery</td>\n",
       "      <td>57242.512</td>\n",
       "      <td>24.806705</td>\n",
       "      <td>0.267194</td>\n",
       "      <td>0.146932</td>\n",
       "      <td>0.016337</td>\n",
       "      <td>...</td>\n",
       "      <td>0.628499</td>\n",
       "      <td>NaN</td>\n",
       "      <td>NaN</td>\n",
       "      <td>NaN</td>\n",
       "      <td>0.316781</td>\n",
       "      <td>0.534267</td>\n",
       "      <td>0.705275</td>\n",
       "      <td>0.498937</td>\n",
       "      <td>0.588529</td>\n",
       "      <td>0.664305</td>\n",
       "    </tr>\n",
       "    <tr>\n",
       "      <th>2</th>\n",
       "      <td>20300</td>\n",
       "      <td>1</td>\n",
       "      <td>1</td>\n",
       "      <td>11101.0</td>\n",
       "      <td>Montgomery</td>\n",
       "      <td>75647.727</td>\n",
       "      <td>25.322525</td>\n",
       "      <td>0.164159</td>\n",
       "      <td>0.224413</td>\n",
       "      <td>0.027096</td>\n",
       "      <td>...</td>\n",
       "      <td>0.603472</td>\n",
       "      <td>NaN</td>\n",
       "      <td>NaN</td>\n",
       "      <td>NaN</td>\n",
       "      <td>0.373485</td>\n",
       "      <td>0.564473</td>\n",
       "      <td>0.714644</td>\n",
       "      <td>0.424628</td>\n",
       "      <td>0.570338</td>\n",
       "      <td>0.693578</td>\n",
       "    </tr>\n",
       "    <tr>\n",
       "      <th>3</th>\n",
       "      <td>20400</td>\n",
       "      <td>1</td>\n",
       "      <td>1</td>\n",
       "      <td>11101.0</td>\n",
       "      <td>Montgomery</td>\n",
       "      <td>74852.055</td>\n",
       "      <td>22.965347</td>\n",
       "      <td>0.252744</td>\n",
       "      <td>0.230469</td>\n",
       "      <td>0.015083</td>\n",
       "      <td>...</td>\n",
       "      <td>0.836172</td>\n",
       "      <td>0.355786</td>\n",
       "      <td>0.669299</td>\n",
       "      <td>1.014945</td>\n",
       "      <td>0.421511</td>\n",
       "      <td>0.575583</td>\n",
       "      <td>0.696727</td>\n",
       "      <td>0.429316</td>\n",
       "      <td>0.579117</td>\n",
       "      <td>0.705817</td>\n",
       "    </tr>\n",
       "    <tr>\n",
       "      <th>4</th>\n",
       "      <td>20500</td>\n",
       "      <td>1</td>\n",
       "      <td>1</td>\n",
       "      <td>11101.0</td>\n",
       "      <td>Montgomery</td>\n",
       "      <td>96174.766</td>\n",
       "      <td>26.222353</td>\n",
       "      <td>0.375063</td>\n",
       "      <td>0.321154</td>\n",
       "      <td>0.046488</td>\n",
       "      <td>...</td>\n",
       "      <td>0.696612</td>\n",
       "      <td>0.267304</td>\n",
       "      <td>0.518705</td>\n",
       "      <td>0.795874</td>\n",
       "      <td>0.433415</td>\n",
       "      <td>0.606627</td>\n",
       "      <td>0.742821</td>\n",
       "      <td>0.476707</td>\n",
       "      <td>0.617311</td>\n",
       "      <td>0.736233</td>\n",
       "    </tr>\n",
       "  </tbody>\n",
       "</table>\n",
       "<p>5 rows × 80 columns</p>\n",
       "</div>"
      ],
      "text/plain": [
       "   tract  county  state       cz      czname  hhinc_mean2000  \\\n",
       "0  20100       1      1  11101.0  Montgomery       68638.727   \n",
       "1  20200       1      1  11101.0  Montgomery       57242.512   \n",
       "2  20300       1      1  11101.0  Montgomery       75647.727   \n",
       "3  20400       1      1  11101.0  Montgomery       74852.055   \n",
       "4  20500       1      1  11101.0  Montgomery       96174.766   \n",
       "\n",
       "   mean_commutetime2000  frac_coll_plus2010  frac_coll_plus2000  \\\n",
       "0             26.171911            0.254428            0.156479   \n",
       "1             24.806705            0.267194            0.146932   \n",
       "2             25.322525            0.164159            0.224413   \n",
       "3             22.965347            0.252744            0.230469   \n",
       "4             26.222353            0.375063            0.321154   \n",
       "\n",
       "   foreign_share2010        ...         ranks_black_p100  ranks_hisp_p25  \\\n",
       "0           0.009950        ...                 0.756279             NaN   \n",
       "1           0.016337        ...                 0.628499             NaN   \n",
       "2           0.027096        ...                 0.603472             NaN   \n",
       "3           0.015083        ...                 0.836172        0.355786   \n",
       "4           0.046488        ...                 0.696612        0.267304   \n",
       "\n",
       "   ranks_hisp_p75  ranks_hisp_p100  ranks_pooled_p25  ranks_pooled_p75  \\\n",
       "0             NaN              NaN          0.367813          0.570000   \n",
       "1             NaN              NaN          0.316781          0.534267   \n",
       "2             NaN              NaN          0.373485          0.564473   \n",
       "3        0.669299         1.014945          0.421511          0.575583   \n",
       "4        0.518705         0.795874          0.433415          0.606627   \n",
       "\n",
       "   ranks_pooled_p100  ranks_white_p25  ranks_white_p75  ranks_white_p100  \n",
       "0           0.728977         0.393526         0.564946          0.709932  \n",
       "1           0.705275         0.498937         0.588529          0.664305  \n",
       "2           0.714644         0.424628         0.570338          0.693578  \n",
       "3           0.696727         0.429316         0.579117          0.705817  \n",
       "4           0.742821         0.476707         0.617311          0.736233  \n",
       "\n",
       "[5 rows x 80 columns]"
      ]
     },
     "execution_count": 2,
     "metadata": {},
     "output_type": "execute_result"
    }
   ],
   "source": [
    "# Assuming that you downloaded the dataset to the same dir from where you are running the notebook \n",
    "atlas_data_file = './data/atlas_ranks.csv'\n",
    "atlas_df = pd.read_csv(atlas_data_file, low_memory=False)\n",
    "atlas_df.head()"
   ]
  },
  {
   "cell_type": "markdown",
   "metadata": {},
   "source": [
    "## Zoom in Harvard Yard\n",
    "You could look for Harvard Yard in https://opportunityatlas.org/, finding it's full census tract, which is 25017353700. <br/>\n",
    "That is, state 25, county 017, tract 353700 (2 digits state + 3 digits county + 6 digits tract)."
   ]
  },
  {
   "cell_type": "code",
   "execution_count": 3,
   "metadata": {},
   "outputs": [
    {
     "name": "stdout",
     "output_type": "stream",
     "text": [
      "       kfr_pooled_p25  kfr_pooled_p75  kfr_pooled_p100\n",
      "31722       45137.918       53457.016        60914.863\n",
      "       ranks_pooled_p25  ranks_pooled_p75  ranks_pooled_p100\n",
      "31722           0.52259           0.58325           0.630946\n"
     ]
    }
   ],
   "source": [
    "# Only the observation of the county you care about\n",
    "mytract_df = atlas_df[ (atlas_df['state'] == 25) & (atlas_df['county'] == 17) & (atlas_df['tract'] == 353700)]\n",
    "\n",
    "# Shows dollar outcomes, then rank outcomes of children\n",
    "print( mytract_df.filter(regex='kfr_pooled'))\n",
    "print(mytract_df.filter(regex='ranks_pooled'))"
   ]
  },
  {
   "cell_type": "markdown",
   "metadata": {},
   "source": [
    "### Comparing it with the county/state/country\n",
    "Focusing on the outcomes of kids from all races/ethnicities with parents' rank = 25 (kfr_pooled_p25)"
   ]
  },
  {
   "cell_type": "code",
   "execution_count": 4,
   "metadata": {},
   "outputs": [
    {
     "name": "stdout",
     "output_type": "stream",
     "text": [
      "Non-weighted averages of kfr_pooled_p25\n",
      "USA: $ 34,443.5\n",
      "My state: $ 38,470.7\n",
      "My county: $ 42,066.7\n",
      "\n",
      "Weighted averages of kfr_pooled_p25\n",
      "USA: $ 34,311.7\n",
      "My state: $ 38,721.1\n",
      "My county: $ 42,326.1\n"
     ]
    }
   ],
   "source": [
    "# Comparisson groups\n",
    "mystate_df = atlas_df[atlas_df['state'] == 25]\n",
    "mycounty_df = atlas_df[(atlas_df['state'] == 25) & (atlas_df['county'] == 17)]\n",
    "\n",
    "# Simple averages for mobility\n",
    "print('Non-weighted averages of kfr_pooled_p25')\n",
    "print('USA: $ {:,g}'.format(np.mean(atlas_df['kfr_pooled_p25'])))\n",
    "print('My state: $ {:,g}'.format(np.mean(mystate_df['kfr_pooled_p25'])))\n",
    "print('My county: $ {:,g}'.format(np.mean(mycounty_df['kfr_pooled_p25'])))\n",
    "\n",
    "# Weighted averages. Since they cannot be calculated with NaN, drop those results (or mask them)\n",
    "atlas_nna = atlas_df.dropna(subset=['kfr_pooled_p25', 'count_pooled'])\n",
    "mystate_nna = mystate_df.dropna(subset=['kfr_pooled_p25', 'count_pooled'])\n",
    "mycounty_nna = mycounty_df.dropna(subset=['kfr_pooled_p25', 'count_pooled'])\n",
    "print('\\nWeighted averages of kfr_pooled_p25')\n",
    "print('USA: $ {:,g}'.format(np.average(atlas_nna['kfr_pooled_p25'], weights=atlas_nna['count_pooled'])))\n",
    "print('My state: $ {:,g}'.format(np.average(mystate_nna['kfr_pooled_p25'], weights=mystate_nna['count_pooled'])))\n",
    "print('My county: $ {:,g}'.format(np.average(mycounty_nna['kfr_pooled_p25'], weights=mycounty_nna['count_pooled'])))"
   ]
  },
  {
   "cell_type": "code",
   "execution_count": 5,
   "metadata": {},
   "outputs": [
    {
     "name": "stdout",
     "output_type": "stream",
     "text": [
      "Beta_hat: \n",
      " [0.71229517]\n"
     ]
    },
    {
     "data": {
      "image/png": "[encoded data removed]",
      "text/plain": [
       "<Figure size 720x360 with 1 Axes>"
      ]
     },
     "metadata": {},
     "output_type": "display_data"
    }
   ],
   "source": [
    "# Raw Data\n",
    "x = mycounty_df['kfr_pooled_p75']\n",
    "y = mycounty_df['kfr_pooled_p25']\n",
    "\n",
    "# Display the beta in y=a+bx\n",
    "reg_line = LinearRegression()\n",
    "reg_line.fit(x.values.reshape((len(x), 1)), y.values)\n",
    "print('Beta_hat: \\n', reg_line.coef_)\n",
    "\n",
    "# Plot regression with slope confidence interval\n",
    "fig, ax = plt.subplots(1, 1, figsize=(10, 5))\n",
    "ax = sns.regplot(x=x, y=y, scatter_kws={'s':2}, line_kws={\"color\":\"r\"}, ci=95)\n",
    "\n",
    "# Labels\n",
    "ax.set_xlabel('Income ($) for kids with Parents Rank = 75')\n",
    "ax.set_ylabel('Income ($) for kids with Parents Rank = 25')\n",
    "ax.set_title('Upward mobility p25 vs. p75 in my county')\n",
    "\n",
    "# Save graph\n",
    "plt.savefig('./graphs/py_cty_reg.png', dpi=300)"
   ]
  }
 ],
 "metadata": {
  "kernelspec": {
   "display_name": "Python 3",
   "language": "python",
   "name": "python3"
  },
  "language_info": {
   "codemirror_mode": {
    "name": "ipython",
    "version": 3
   },
   "file_extension": ".py",
   "mimetype": "text/x-python",
   "name": "python",
   "nbconvert_exporter": "python",
   "pygments_lexer": "ipython3",
   "version": "3.6.5"
  }
 },
 "nbformat": 4,
 "nbformat_minor": 2
}
