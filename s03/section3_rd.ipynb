{
 "cells": [
  {
   "cell_type": "markdown",
   "metadata": {},
   "source": [
    "<img style=\"float: left; padding-right: 5px; width: 300px\" \n",
    "src=\"https://github.com/dianagold/Ec1152_diana/blob/master/econlogo.png?raw=true\"> <br/><br/><br/>\n",
    "# Ec 1152 Using big data to solve economic and social problems\n",
    "### Section 3: Regression Discontinuity \n",
    "\n",
    "**Harvard University** - Spring 2019 <br/>\n",
    "**Instructor**: Prof. Raj Chetty <br/>\n",
    "**Head TF**: Greg Bruich <br/>\n",
    "**TF**: Diana Goldemberg"
   ]
  },
  {
   "cell_type": "code",
   "execution_count": 174,
   "metadata": {},
   "outputs": [],
   "source": [
    "import pandas as pd\n",
    "import numpy as np\n",
    "import patsy\n",
    "import matplotlib.pyplot as plt\n",
    "import statsmodels.api as sm\n",
    "%matplotlib inline"
   ]
  },
  {
   "cell_type": "markdown",
   "metadata": {},
   "source": [
    "## First Look At The Data\n",
    "\n",
    "Simplified dataset from Lindo, Sanders and Oreopoulos (2010)"
   ]
  },
  {
   "cell_type": "code",
   "execution_count": 182,
   "metadata": {
    "scrolled": true
   },
   "outputs": [
    {
     "name": "stdout",
     "output_type": "stream",
     "text": [
      "       age_at_entry       gradin4       english          male   left_school  \\\n",
      "count  30017.000000  30017.000000  30017.000000  30017.000000  30017.000000   \n",
      "mean      18.768098      0.446647      0.726522      0.386581      0.053137   \n",
      "std        0.700307      0.497154      0.445752      0.486974      0.224309   \n",
      "min       17.000000      0.000000      0.000000      0.000000      0.000000   \n",
      "25%       18.000000      0.000000      0.000000      0.000000      0.000000   \n",
      "50%       19.000000      0.000000      1.000000      0.000000      0.000000   \n",
      "75%       19.000000      1.000000      1.000000      1.000000      0.000000   \n",
      "max       21.000000      1.000000      1.000000      1.000000      1.000000   \n",
      "\n",
      "        hsgrade_pct           GPA  \n",
      "count  30017.000000  30017.000000  \n",
      "mean      48.386914      2.481687  \n",
      "std       28.857860      0.898434  \n",
      "min        1.000000      0.000000  \n",
      "25%       23.000000      1.880000  \n",
      "50%       48.000000      2.550000  \n",
      "75%       73.000000      3.160000  \n",
      "max      100.000000      4.000000  \n"
     ]
    }
   ],
   "source": [
    "# Assuming that you downloaded the dataset to the same dir from where you are running the notebook \n",
    "probation_data_file = './section3_probation.csv'\n",
    "probation_df = pd.read_csv(probation_data_file, low_memory=False)\n",
    "print(probation_df.describe())"
   ]
  },
  {
   "cell_type": "markdown",
   "metadata": {},
   "source": [
    "## Variable Creation\n",
    "Create X, our running variable, GPA centered around the cut-off 1.6 <br/>\n",
    "Create T, treatement indicator, for being below probation threshold <br/>\n",
    "Create XT, an interaction term "
   ]
  },
  {
   "cell_type": "code",
   "execution_count": 176,
   "metadata": {
    "scrolled": true
   },
   "outputs": [
    {
     "data": {
      "text/html": [
       "<div>\n",
       "<style scoped>\n",
       "    .dataframe tbody tr th:only-of-type {\n",
       "        vertical-align: middle;\n",
       "    }\n",
       "\n",
       "    .dataframe tbody tr th {\n",
       "        vertical-align: top;\n",
       "    }\n",
       "\n",
       "    .dataframe thead th {\n",
       "        text-align: right;\n",
       "    }\n",
       "</style>\n",
       "<table border=\"1\" class=\"dataframe\">\n",
       "  <thead>\n",
       "    <tr style=\"text-align: right;\">\n",
       "      <th></th>\n",
       "      <th>age_at_entry</th>\n",
       "      <th>gradin4</th>\n",
       "      <th>english</th>\n",
       "      <th>male</th>\n",
       "      <th>left_school</th>\n",
       "      <th>hsgrade_pct</th>\n",
       "      <th>GPA</th>\n",
       "      <th>X</th>\n",
       "      <th>T</th>\n",
       "      <th>XT</th>\n",
       "    </tr>\n",
       "  </thead>\n",
       "  <tbody>\n",
       "    <tr>\n",
       "      <th>0</th>\n",
       "      <td>19</td>\n",
       "      <td>0</td>\n",
       "      <td>1</td>\n",
       "      <td>0</td>\n",
       "      <td>0</td>\n",
       "      <td>94</td>\n",
       "      <td>3.74</td>\n",
       "      <td>2.14</td>\n",
       "      <td>0</td>\n",
       "      <td>0.0</td>\n",
       "    </tr>\n",
       "    <tr>\n",
       "      <th>1</th>\n",
       "      <td>18</td>\n",
       "      <td>1</td>\n",
       "      <td>1</td>\n",
       "      <td>1</td>\n",
       "      <td>0</td>\n",
       "      <td>65</td>\n",
       "      <td>2.05</td>\n",
       "      <td>0.45</td>\n",
       "      <td>0</td>\n",
       "      <td>0.0</td>\n",
       "    </tr>\n",
       "    <tr>\n",
       "      <th>2</th>\n",
       "      <td>18</td>\n",
       "      <td>0</td>\n",
       "      <td>1</td>\n",
       "      <td>1</td>\n",
       "      <td>1</td>\n",
       "      <td>39</td>\n",
       "      <td>2.28</td>\n",
       "      <td>0.68</td>\n",
       "      <td>0</td>\n",
       "      <td>0.0</td>\n",
       "    </tr>\n",
       "    <tr>\n",
       "      <th>3</th>\n",
       "      <td>19</td>\n",
       "      <td>1</td>\n",
       "      <td>1</td>\n",
       "      <td>0</td>\n",
       "      <td>0</td>\n",
       "      <td>72</td>\n",
       "      <td>3.88</td>\n",
       "      <td>2.28</td>\n",
       "      <td>0</td>\n",
       "      <td>0.0</td>\n",
       "    </tr>\n",
       "    <tr>\n",
       "      <th>4</th>\n",
       "      <td>18</td>\n",
       "      <td>1</td>\n",
       "      <td>0</td>\n",
       "      <td>1</td>\n",
       "      <td>0</td>\n",
       "      <td>22</td>\n",
       "      <td>3.33</td>\n",
       "      <td>1.73</td>\n",
       "      <td>0</td>\n",
       "      <td>0.0</td>\n",
       "    </tr>\n",
       "  </tbody>\n",
       "</table>\n",
       "</div>"
      ],
      "text/plain": [
       "   age_at_entry  gradin4  english  male  left_school  hsgrade_pct   GPA     X  \\\n",
       "0            19        0        1     0            0           94  3.74  2.14   \n",
       "1            18        1        1     1            0           65  2.05  0.45   \n",
       "2            18        0        1     1            1           39  2.28  0.68   \n",
       "3            19        1        1     0            0           72  3.88  2.28   \n",
       "4            18        1        0     1            0           22  3.33  1.73   \n",
       "\n",
       "   T   XT  \n",
       "0  0  0.0  \n",
       "1  0  0.0  \n",
       "2  0  0.0  \n",
       "3  0  0.0  \n",
       "4  0  0.0  "
      ]
     },
     "execution_count": 176,
     "metadata": {},
     "output_type": "execute_result"
    }
   ],
   "source": [
    "probation_df = probation_df.assign(X= lambda x: x['GPA'] - 1.6,\n",
    "                                   T= lambda x: (x['X']<0).astype('int'),\n",
    "                                   XT= lambda x: x['X']*x['T'])\n",
    "probation_df.head()"
   ]
  },
  {
   "cell_type": "markdown",
   "metadata": {},
   "source": [
    "### Estimate RD"
   ]
  },
  {
   "cell_type": "code",
   "execution_count": 177,
   "metadata": {},
   "outputs": [
    {
     "name": "stdout",
     "output_type": "stream",
     "text": [
      "                    Robust linear Model Regression Results                    \n",
      "==============================================================================\n",
      "Dep. Variable:                gradin4   No. Observations:                17670\n",
      "Model:                            RLM   Df Residuals:                    17666\n",
      "Method:                          IRLS   Df Model:                            3\n",
      "Norm:                          HuberT                                         \n",
      "Scale Est.:                       mad                                         \n",
      "Cov Type:                          H1                                         \n",
      "Date:                Sun, 24 Feb 2019                                         \n",
      "Time:                        23:36:33                                         \n",
      "No. Iterations:                     9                                         \n",
      "==============================================================================\n",
      "                 coef    std err          z      P>|z|      [0.025      0.975]\n",
      "------------------------------------------------------------------------------\n",
      "Intercept      0.2813      0.009     33.054      0.000       0.265       0.298\n",
      "T             -0.0403      0.015     -2.767      0.006      -0.069      -0.012\n",
      "X              0.2128      0.012     18.329      0.000       0.190       0.236\n",
      "XT             0.0229      0.025      0.930      0.353      -0.025       0.071\n",
      "==============================================================================\n",
      "\n",
      "If the model instance has been used for another fit with different fit\n",
      "parameters, then the fit options might not be the correct ones anymore .\n"
     ]
    }
   ],
   "source": [
    "# First, sets the window (bandwidth)\n",
    "window_df = probation_df[(probation_df['X'] >= -1.2) & (probation_df['X'] <= 1.2)]\n",
    "\n",
    "# Remember that only the coefficient on T has a causal interpretation\n",
    "formula = 'gradin4 ~ T + X + XT'\n",
    "aux_y, aux_X = patsy.dmatrices(formula, window_df, return_type='dataframe')\n",
    "resrlm = sm.RLM(aux_y, aux_X).fit()\n",
    "print(resrlm.summary())"
   ]
  },
  {
   "cell_type": "markdown",
   "metadata": {},
   "source": [
    "### Bin scatter\n",
    "Equivalent in Stata that we wish to construct:<br/>\n",
    "\"binscatter gradin4 X if inrange(X, -1.2, 1.2), rd(0) nq(40)\" <br/>\n",
    "Note that it requires the previous step for bandwidth setup and linear fits"
   ]
  },
  {
   "cell_type": "code",
   "execution_count": 179,
   "metadata": {},
   "outputs": [
    {
     "data": {
      "image/png": "[encoded data removed]",
      "text/plain": [
       "<Figure size 720x360 with 1 Axes>"
      ]
     },
     "metadata": {},
     "output_type": "display_data"
    }
   ],
   "source": [
    "# Function to get the points for the scatter (x mean, y mean)\n",
    "def prep_binscatter(x, y, n_bins):\n",
    "    # Sorts data based on x\n",
    "    if np.any(np.diff(x) < 0):\n",
    "        argsort = np.argsort(x)\n",
    "        x = x[argsort]\n",
    "        y = y[argsort]\n",
    "    x_data = x\n",
    "    y_data = y   \n",
    "    # Creates bins\n",
    "    if x_data.ndim == 1:\n",
    "        x_data = x_data[:, None]\n",
    "    bin_edges = np.linspace(0, len(y), n_bins + 1).astype(int)\n",
    "    assert len(bin_edges) == n_bins + 1\n",
    "    bins = [slice(bin_edges[i], bin_edges[i + 1]) for i in range(len(bin_edges) - 1)]\n",
    "    assert len(bins) == n_bins\n",
    "    # Prepares outputs\n",
    "    x_means = [np.mean(x_data[bin_]) for bin_ in bins]\n",
    "    y_means = [np.mean(y_data[bin_]) for bin_ in bins]\n",
    "    return x_means, y_means\n",
    "\n",
    "\n",
    "# Here you should customize according to your dataset\n",
    "x=window_df['X']\n",
    "y=window_df['gradin4']\n",
    "\n",
    "# Use the fuction to store points to scatter in two lists\n",
    "x_means, y_means = prep_binscatter(np.asarray(x), np.asarray(y), n_bins=40)\n",
    "\n",
    "# Calculate the linear predictions to plot\n",
    "x_means_left = list(filter(lambda x: x<0, x_means))\n",
    "x_means_right = list(filter(lambda x: x>0, x_means))\n",
    "y_hat_left  = (resrlm.params[0]+resrlm.params[1]) + (resrlm.params[2]+resrlm.params[3])*np.asarray(x_means_left)\n",
    "y_hat_right = resrlm.params[0] + resrlm.params[2]*np.asarray(x_means_right)\n",
    "y_hat = [*y_hat_left, *y_hat_right] \n",
    "n = len(x_means_left)\n",
    "\n",
    "\n",
    "# Plot the binscatter\n",
    "fig, rdplot = plt.subplots(1, 1, figsize=(10, 5))\n",
    "rdplot.scatter(x_means, y_means)\n",
    "rdplot.set_xlabel('GPA relative to probation cutoff')\n",
    "rdplot.set_ylabel('Graduates in 4 Years')\n",
    "rdplot.set_title(\"Regression Discontinuity: Graduation Rates by GPA Before and After the Cutoff\", fontsize=\"14\")\n",
    "rdplot.plot(x_means[0:n], y_hat[0:n], '-', color=\"r\")\n",
    "rdplot.plot(x_means[n:], y_hat[n:], '-', color=\"r\")\n",
    "rdplot.axvline(x=-0,color=\"black\", linestyle=\"--\")\n",
    "plt.show()"
   ]
  },
  {
   "cell_type": "code",
   "execution_count": null,
   "metadata": {},
   "outputs": [],
   "source": []
  }
 ],
 "metadata": {
  "kernelspec": {
   "display_name": "Python 3",
   "language": "python",
   "name": "python3"
  },
  "language_info": {
   "codemirror_mode": {
    "name": "ipython",
    "version": 3
   },
   "file_extension": ".py",
   "mimetype": "text/x-python",
   "name": "python",
   "nbconvert_exporter": "python",
   "pygments_lexer": "ipython3",
   "version": "3.6.5"
  }
 },
 "nbformat": 4,
 "nbformat_minor": 2
}
