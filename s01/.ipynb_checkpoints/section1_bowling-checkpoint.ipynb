{
 "cells": [
  {
   "cell_type": "markdown",
   "metadata": {},
   "source": [
    "<img style=\"float: left; padding-right: 5px; width: 300px\" \n",
    "src=\"https://github.com/dianagold/Ec1152_diana/blob/master/econlogo.png?raw=true\"> <br/><br/><br/>\n",
    "# Ec 1152 Using big data to solve economic and social problems\n",
    "### Section 1: Bowling alleys and mobility\n",
    "\n",
    "**Harvard University** - Spring 2019 <br/>\n",
    "**Instructor**: Prof. Raj Chetty <br/>\n",
    "**Head TF**: Greg Bruich <br/>\n",
    "**TF**: Diana Goldemberg"
   ]
  },
  {
   "cell_type": "code",
   "execution_count": 1,
   "metadata": {},
   "outputs": [],
   "source": [
    "import pandas as pd\n",
    "import sys\n",
    "import numpy as np\n",
    "import scipy as sp\n",
    "import seaborn as sns\n",
    "import matplotlib.pyplot as plt\n",
    "from math import radians, cos, sin, asin, sqrt\n",
    "import datetime\n",
    "from sklearn.linear_model import LinearRegression\n",
    "from sklearn import preprocessing\n",
    "%matplotlib inline"
   ]
  },
  {
   "cell_type": "markdown",
   "metadata": {},
   "source": [
    "## First Look At The Data"
   ]
  },
  {
   "cell_type": "code",
   "execution_count": 2,
   "metadata": {
    "scrolled": true
   },
   "outputs": [
    {
     "data": {
      "text/html": [
       "<div>\n",
       "<style scoped>\n",
       "    .dataframe tbody tr th:only-of-type {\n",
       "        vertical-align: middle;\n",
       "    }\n",
       "\n",
       "    .dataframe tbody tr th {\n",
       "        vertical-align: top;\n",
       "    }\n",
       "\n",
       "    .dataframe thead th {\n",
       "        text-align: right;\n",
       "    }\n",
       "</style>\n",
       "<table border=\"1\" class=\"dataframe\">\n",
       "  <thead>\n",
       "    <tr style=\"text-align: right;\">\n",
       "      <th></th>\n",
       "      <th>cz</th>\n",
       "      <th>czname</th>\n",
       "      <th>state_id</th>\n",
       "      <th>pop2000</th>\n",
       "      <th>s_rank</th>\n",
       "      <th>e_rank_b</th>\n",
       "      <th>prob_p1_k5</th>\n",
       "      <th>bowl90</th>\n",
       "      <th>mergebowlingalleys</th>\n",
       "      <th>bowl_per_capita</th>\n",
       "    </tr>\n",
       "  </thead>\n",
       "  <tbody>\n",
       "    <tr>\n",
       "      <th>0</th>\n",
       "      <td>100</td>\n",
       "      <td>Johnson City</td>\n",
       "      <td>Tennessee</td>\n",
       "      <td>576081</td>\n",
       "      <td>0.37170</td>\n",
       "      <td>38.387501</td>\n",
       "      <td>0.062199</td>\n",
       "      <td>10</td>\n",
       "      <td>matched (3)</td>\n",
       "      <td>0.173587</td>\n",
       "    </tr>\n",
       "    <tr>\n",
       "      <th>1</th>\n",
       "      <td>200</td>\n",
       "      <td>Morristown</td>\n",
       "      <td>Tennessee</td>\n",
       "      <td>227816</td>\n",
       "      <td>0.35611</td>\n",
       "      <td>37.776752</td>\n",
       "      <td>0.053652</td>\n",
       "      <td>3</td>\n",
       "      <td>matched (3)</td>\n",
       "      <td>0.131685</td>\n",
       "    </tr>\n",
       "    <tr>\n",
       "      <th>2</th>\n",
       "      <td>301</td>\n",
       "      <td>Middlesborough</td>\n",
       "      <td>Tennessee</td>\n",
       "      <td>66708</td>\n",
       "      <td>0.37557</td>\n",
       "      <td>39.049252</td>\n",
       "      <td>0.072635</td>\n",
       "      <td>2</td>\n",
       "      <td>matched (3)</td>\n",
       "      <td>0.299814</td>\n",
       "    </tr>\n",
       "    <tr>\n",
       "      <th>3</th>\n",
       "      <td>302</td>\n",
       "      <td>Knoxville</td>\n",
       "      <td>Tennessee</td>\n",
       "      <td>727600</td>\n",
       "      <td>0.37253</td>\n",
       "      <td>37.841248</td>\n",
       "      <td>0.056281</td>\n",
       "      <td>9</td>\n",
       "      <td>matched (3)</td>\n",
       "      <td>0.123694</td>\n",
       "    </tr>\n",
       "    <tr>\n",
       "      <th>4</th>\n",
       "      <td>401</td>\n",
       "      <td>Winston-Salem</td>\n",
       "      <td>North Carolina</td>\n",
       "      <td>493180</td>\n",
       "      <td>0.38913</td>\n",
       "      <td>36.969250</td>\n",
       "      <td>0.044801</td>\n",
       "      <td>5</td>\n",
       "      <td>matched (3)</td>\n",
       "      <td>0.101383</td>\n",
       "    </tr>\n",
       "  </tbody>\n",
       "</table>\n",
       "</div>"
      ],
      "text/plain": [
       "    cz          czname        state_id  pop2000   s_rank   e_rank_b  \\\n",
       "0  100    Johnson City       Tennessee   576081  0.37170  38.387501   \n",
       "1  200      Morristown       Tennessee   227816  0.35611  37.776752   \n",
       "2  301  Middlesborough       Tennessee    66708  0.37557  39.049252   \n",
       "3  302       Knoxville       Tennessee   727600  0.37253  37.841248   \n",
       "4  401   Winston-Salem  North Carolina   493180  0.38913  36.969250   \n",
       "\n",
       "   prob_p1_k5  bowl90 mergebowlingalleys  bowl_per_capita  \n",
       "0    0.062199      10        matched (3)         0.173587  \n",
       "1    0.053652       3        matched (3)         0.131685  \n",
       "2    0.072635       2        matched (3)         0.299814  \n",
       "3    0.056281       9        matched (3)         0.123694  \n",
       "4    0.044801       5        matched (3)         0.101383  "
      ]
     },
     "execution_count": 2,
     "metadata": {},
     "output_type": "execute_result"
    }
   ],
   "source": [
    "# Assuming that you downloaded the dataset to the same dir from where you are running the notebook \n",
    "bowling_data_file = './data/section1_bowling.csv'\n",
    "bowling_df = pd.read_csv(bowling_data_file, low_memory=False)\n",
    "bowling_df.head()"
   ]
  },
  {
   "cell_type": "markdown",
   "metadata": {},
   "source": [
    "## Linear regression\n",
    "Linear regression (y=a+bx) of mobility (y) on bowling alleys (x)"
   ]
  },
  {
   "cell_type": "code",
   "execution_count": 3,
   "metadata": {},
   "outputs": [
    {
     "name": "stdout",
     "output_type": "stream",
     "text": [
      "Beta_hat: \n",
      " [12.04452587]\n"
     ]
    },
    {
     "data": {
      "image/png": "[encoded data removed]",
      "text/plain": [
       "<Figure size 720x360 with 1 Axes>"
      ]
     },
     "metadata": {},
     "output_type": "display_data"
    }
   ],
   "source": [
    "# Raw Data\n",
    "x = bowling_df['bowl_per_capita']\n",
    "y = bowling_df['e_rank_b']\n",
    "\n",
    "# Display the beta in y=a+bx\n",
    "reg_line = LinearRegression()\n",
    "reg_line.fit(x.values.reshape((len(x), 1)), y.values)\n",
    "print('Beta_hat: \\n', reg_line.coef_)\n",
    "\n",
    "# Plot regression with slope confidence interval\n",
    "fig, ax = plt.subplots(1, 1, figsize=(10, 5))\n",
    "ax = sns.regplot(x=x, y=y, scatter_kws={'s':2}, line_kws={\"color\":\"r\"}, ci=95)\n",
    "\n",
    "# Labels\n",
    "ax.set_xlabel('Number of Bowling Alleys (per 10,000 people)')\n",
    "ax.set_ylabel('Mean Rank of Kids with Parents Rank = 25')\n",
    "ax.set_title('Upward mobility vs. Bowling alleys')\n",
    "\n",
    "# Save graph\n",
    "plt.savefig('./graphs/py_regression.png', dpi=300)"
   ]
  },
  {
   "cell_type": "markdown",
   "metadata": {},
   "source": [
    "## Standardize variables\n",
    "Transforming into a variable with mean=0 and stdev=1"
   ]
  },
  {
   "cell_type": "code",
   "execution_count": 4,
   "metadata": {},
   "outputs": [
    {
     "data": {
      "text/html": [
       "<div>\n",
       "<style scoped>\n",
       "    .dataframe tbody tr th:only-of-type {\n",
       "        vertical-align: middle;\n",
       "    }\n",
       "\n",
       "    .dataframe tbody tr th {\n",
       "        vertical-align: top;\n",
       "    }\n",
       "\n",
       "    .dataframe thead th {\n",
       "        text-align: right;\n",
       "    }\n",
       "</style>\n",
       "<table border=\"1\" class=\"dataframe\">\n",
       "  <thead>\n",
       "    <tr style=\"text-align: right;\">\n",
       "      <th></th>\n",
       "      <th>cz</th>\n",
       "      <th>czname</th>\n",
       "      <th>state_id</th>\n",
       "      <th>pop2000</th>\n",
       "      <th>s_rank</th>\n",
       "      <th>e_rank_b</th>\n",
       "      <th>prob_p1_k5</th>\n",
       "      <th>bowl90</th>\n",
       "      <th>mergebowlingalleys</th>\n",
       "      <th>bowl_per_capita</th>\n",
       "    </tr>\n",
       "  </thead>\n",
       "  <tbody>\n",
       "    <tr>\n",
       "      <th>0</th>\n",
       "      <td>100</td>\n",
       "      <td>Johnson City</td>\n",
       "      <td>Tennessee</td>\n",
       "      <td>576081</td>\n",
       "      <td>0.37170</td>\n",
       "      <td>-1.039608</td>\n",
       "      <td>0.062199</td>\n",
       "      <td>10</td>\n",
       "      <td>matched (3)</td>\n",
       "      <td>-0.719604</td>\n",
       "    </tr>\n",
       "    <tr>\n",
       "      <th>1</th>\n",
       "      <td>200</td>\n",
       "      <td>Morristown</td>\n",
       "      <td>Tennessee</td>\n",
       "      <td>227816</td>\n",
       "      <td>0.35611</td>\n",
       "      <td>-1.157743</td>\n",
       "      <td>0.053652</td>\n",
       "      <td>3</td>\n",
       "      <td>matched (3)</td>\n",
       "      <td>-0.871613</td>\n",
       "    </tr>\n",
       "    <tr>\n",
       "      <th>2</th>\n",
       "      <td>301</td>\n",
       "      <td>Middlesborough</td>\n",
       "      <td>Tennessee</td>\n",
       "      <td>66708</td>\n",
       "      <td>0.37557</td>\n",
       "      <td>-0.911607</td>\n",
       "      <td>0.072635</td>\n",
       "      <td>2</td>\n",
       "      <td>matched (3)</td>\n",
       "      <td>-0.261677</td>\n",
       "    </tr>\n",
       "    <tr>\n",
       "      <th>3</th>\n",
       "      <td>302</td>\n",
       "      <td>Knoxville</td>\n",
       "      <td>Tennessee</td>\n",
       "      <td>727600</td>\n",
       "      <td>0.37253</td>\n",
       "      <td>-1.145268</td>\n",
       "      <td>0.056281</td>\n",
       "      <td>9</td>\n",
       "      <td>matched (3)</td>\n",
       "      <td>-0.900603</td>\n",
       "    </tr>\n",
       "    <tr>\n",
       "      <th>4</th>\n",
       "      <td>401</td>\n",
       "      <td>Winston-Salem</td>\n",
       "      <td>North Carolina</td>\n",
       "      <td>493180</td>\n",
       "      <td>0.38913</td>\n",
       "      <td>-1.313936</td>\n",
       "      <td>0.044801</td>\n",
       "      <td>5</td>\n",
       "      <td>matched (3)</td>\n",
       "      <td>-0.981544</td>\n",
       "    </tr>\n",
       "  </tbody>\n",
       "</table>\n",
       "</div>"
      ],
      "text/plain": [
       "    cz          czname        state_id  pop2000   s_rank  e_rank_b  \\\n",
       "0  100    Johnson City       Tennessee   576081  0.37170 -1.039608   \n",
       "1  200      Morristown       Tennessee   227816  0.35611 -1.157743   \n",
       "2  301  Middlesborough       Tennessee    66708  0.37557 -0.911607   \n",
       "3  302       Knoxville       Tennessee   727600  0.37253 -1.145268   \n",
       "4  401   Winston-Salem  North Carolina   493180  0.38913 -1.313936   \n",
       "\n",
       "   prob_p1_k5  bowl90 mergebowlingalleys  bowl_per_capita  \n",
       "0    0.062199      10        matched (3)        -0.719604  \n",
       "1    0.053652       3        matched (3)        -0.871613  \n",
       "2    0.072635       2        matched (3)        -0.261677  \n",
       "3    0.056281       9        matched (3)        -0.900603  \n",
       "4    0.044801       5        matched (3)        -0.981544  "
      ]
     },
     "execution_count": 4,
     "metadata": {},
     "output_type": "execute_result"
    }
   ],
   "source": [
    "# Copy dataframe and list columns to standardize\n",
    "standardized_df = bowling_df.copy()\n",
    "col_names = ['bowl_per_capita', 'e_rank_b']\n",
    "features = standardized_df[col_names]\n",
    "\n",
    "# Create the Scaler object and fit data\n",
    "scaler = preprocessing.StandardScaler().fit(features.values)\n",
    "features = scaler.transform(features.values)\n",
    "standardized_df[col_names] = features\n",
    "\n",
    "# Standardized set\n",
    "standardized_df.head()"
   ]
  },
  {
   "cell_type": "markdown",
   "metadata": {},
   "source": [
    "## Linear regression from standardized variables\n",
    "Linear regression (y=a+bx) of std_mobility (y) on std_bowling_alleys (x)"
   ]
  },
  {
   "cell_type": "code",
   "execution_count": 5,
   "metadata": {
    "scrolled": true
   },
   "outputs": [
    {
     "name": "stdout",
     "output_type": "stream",
     "text": [
      "Beta_hat: \n",
      " [0.64219257]\n"
     ]
    },
    {
     "data": {
      "image/png": "[encoded data removed]",
      "text/plain": [
       "<Figure size 720x360 with 1 Axes>"
      ]
     },
     "metadata": {},
     "output_type": "display_data"
    }
   ],
   "source": [
    "# Basically, the same code as before, but changing the input data and labels\n",
    "\n",
    "# Raw Data\n",
    "x = standardized_df['bowl_per_capita']\n",
    "y = standardized_df['e_rank_b']\n",
    "\n",
    "# Display the beta in y=a+bx\n",
    "reg_line = LinearRegression()\n",
    "reg_line.fit(x.values.reshape((len(x), 1)), y.values)\n",
    "print('Beta_hat: \\n', reg_line.coef_)\n",
    "\n",
    "# Plot regression with slope confidence interval\n",
    "fig, ax = plt.subplots(1, 1, figsize=(10, 5))\n",
    "ax = sns.regplot(x=x, y=y, scatter_kws={'s':2}, line_kws={\"color\":\"r\"}, ci=95)\n",
    "\n",
    "# Labels\n",
    "ax.set_xlabel('Standardized Number of Bowling Alleys (per 10,000 people)')\n",
    "ax.set_ylabel('Standardized Mean Rank of Kids with Parents Rank = 25')\n",
    "ax.set_title('Standardized Upward mobility vs. Bowling alleys')\n",
    "\n",
    "# Save graph\n",
    "plt.savefig('./graphs/py_std_regression.png', dpi=300)"
   ]
  }
 ],
 "metadata": {
  "kernelspec": {
   "display_name": "Python 3",
   "language": "python",
   "name": "python3"
  },
  "language_info": {
   "codemirror_mode": {
    "name": "ipython",
    "version": 3
   },
   "file_extension": ".py",
   "mimetype": "text/x-python",
   "name": "python",
   "nbconvert_exporter": "python",
   "pygments_lexer": "ipython3",
   "version": "3.6.5"
  }
 },
 "nbformat": 4,
 "nbformat_minor": 2
}
